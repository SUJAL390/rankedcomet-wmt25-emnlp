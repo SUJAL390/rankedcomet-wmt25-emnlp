{
 "cells": [
  {
   "cell_type": "code",
   "execution_count": null,
   "metadata": {
    "_cell_guid": "b1076dfc-b9ad-4769-8c92-a6c4dae69d19",
    "_uuid": "8f2839f25d086af736a60e9eeb907d3b93b6e0e5",
    "execution": {
     "iopub.execute_input": "2025-08-06T01:35:11.148857Z",
     "iopub.status.busy": "2025-08-06T01:35:11.148642Z",
     "iopub.status.idle": "2025-08-06T01:36:38.834610Z",
     "shell.execute_reply": "2025-08-06T01:36:38.833640Z",
     "shell.execute_reply.started": "2025-08-06T01:35:11.148838Z"
    },
    "trusted": true
   },
   "outputs": [],
   "source": [
    "import pandas as pd\n",
    "import torch\n",
    "import csv\n",
    "import os\n",
    "import gzip"
   ]
  },
  {
   "cell_type": "code",
   "execution_count": null,
   "metadata": {
    "execution": {
     "iopub.execute_input": "2025-08-06T01:36:49.318835Z",
     "iopub.status.busy": "2025-08-06T01:36:49.318622Z",
     "iopub.status.idle": "2025-08-06T01:37:08.357515Z",
     "shell.execute_reply": "2025-08-06T01:37:08.356683Z",
     "shell.execute_reply.started": "2025-08-06T01:36:49.318815Z"
    },
    "trusted": true
   },
   "outputs": [
    {
     "name": "stdout",
     "output_type": "stream",
     "text": [
      "Looking for compressed file at: .\\mteval-task1-test25.tsv.gz\n",
      "Using existing decompressed file: mteval-task1-test25.tsv\n",
      "Checking decompressed file content before loading...\n",
      "Line 1: doc_id\tsegment_id\tsource_lang\ttarget_lang\tset_id\tsystem_id\tsource_segment\thypothesis_segment\treference_segment\tdomain_name\tmethod\n",
      "Line 2: en-is_IS_#_literary_#_rink_rats_chapter1\t1\ten\tis_IS\tofficial\tAMI\tRink Rats \\n Chapter 1: First Day \\n Kyle looked at his reflection in the mirror. He studied the lines etched on his face, each one a reminder of the years gone by. A hint of gray threaded his hair now, and for a moment, he felt the weight of change settling in. \\n He didn’t want to label it an identity crisis. Not yet at least. But as he splashed the cold sink water on his face, memories of his pro hockey career flooded his mind. The thrill of the game, the adrenaline of competition, the love of the fans. All forty years of his life had practically been dedicated to making it to the highest level. Now those days were behind him.\tRinkrats \\n 1. kafli: Fyrsti dagurinn \\n Kyle skoðaði sjálfan sig í speglinum. Hann skoðaði línurnar sem voru á andliti hans, hver og ein þeirra minning um liðin ár. Grái liturinn hafði tekið yfir hárið hans nú og í augnablikinu fann hann fyrir þunglyndi vegna breytinga sem höfðu átt sér stað. \\n Hann vildi ekki kalla þetta sjálfsmyndarkrísu. Ekki enn. Að minnsta kosti ekki. En þegar hann sprautaði köldu vatni úr krana á andlitið rifjuðust upp fyrir honum minningar frá háskólaíshokkíferlinum. Spennan við leikinn, adrenalínið í keppninni, ástin hjá stuðningsmönnunum. Allt að fjörutíu ár af ævi hans höfðu nánast verið helguð því að komast upp á hæstu stig. Þessir dagar voru nú að baki.\tSvellkaldir \\n 1. kafli: Fyrsti dagurinn \\n Kyle horfði á sjálfan sig í speglinum. Hann rannsakaði línurnar sem voru greyptar í andlit hans og minntu hann allar á liðin ár. Það var farið að votta fyrir gráu hér og þar í hárinu og eitt augnablik fann hann byrði breyttra tíma hvíla á sér. \\n Hann vildi ekki kalla þetta tilvistarkreppu, að minnsta kosti ekki enn þá, en þegar hann skvetti köldu vatninu úr vaskinum á andlitið helltust yfir hann minningar frá því að hann var atvinnumaður í íshokkí. Um spennuna sem fylgdi íþróttinni, adrenalínflæðið þegar hann keppti, um aðdáun stuðningsmannanna. Öll hans fjörutíu æviár höfðu meira og minna verið helguð því að ná toppárangri. Nú voru þessir dagar að baki.\tliterary\tESA\n",
      "Line 3: en-is_IS_#_literary_#_rink_rats_chapter1\t2\ten\tis_IS\tofficial\tAMI\tIt had been a remarkable twenty-year pro career, one that most players could only dream of. He wore a gleaming championship ring, a testament to his hard work and dedication. Kyle truly couldn’t have asked for more. With his wife and son by his side through every triumph and challenge, he was ready to step into this new chapter and return the favor they had shown him. \\n Today marked a significant milestone for the Barnes family; Ryan’s first day of school in their new town. After Kyle’s retirement, they had chosen to relocate to New Hampshire so Ryan could attend St. Cassian’s, the prestigious hockey prep school where Kyle had once played.\tÞað hafði verið merkilegur tuttugu ára ferill, einn sem flestir leikmenn gátu aðeins látið sig dreyma um. Hann bar glæsilegan meistaratitilshring, vitnisburð um vinnusemi sína og ástríðu. Kyle gat ekki beðið eftir að stíga inn í þennan nýja kafla og endurgjalda þeim það sem þau höfðu sýnt honum. Með eiginkonu sinni og syni sér við hlið í gegnum alla sigra og alla erfiðleika var hann tilbúinn að hefja nýtt ævintýri. \\n Í dag var merkilegur áfangi fyrir Barnes-fjölskylduna; fyrsti skóladagur Ryans í nýja bænum þeirra. Eftir að Kyle hætti störfum höfðu þau ákveðið að flytja til New Hampshire svo að Ryan gæti gengið í St. Casimir, hinum virta íshokkíundirbúningsskóla þar sem Kyle hafði einu sinni spilað.\tÁrin tuttugu í atvinnumennskunni höfðu verið makalaus, eitthvað sem flestir leikmenn gætu bara látið sig dreyma um. Hann gekk með glampandi meistarahring sem bar vott um dugnað hans og staðfestu. Kyle hefði svo sannarlega ekki getað farið fram á meira. Þar sem eiginkona hans og sonur höfðu stutt í hann í gegnum alla sigra hans og þrautir var hann nú reiðubúinn að hefja þennan nýja kafla og endurgjalda þeim greiðann. \\n Dagurinn í dag var stór áfangi fyrir Barnes-fjölskylduna: fyrsti skóladagur Ryans í nýjum heimabæ þeirra. Þegar Kyle settist í helgan stein höfðu þau ákveðið að flytja til New Hamphire svo Ryan gæti gengið í St. Cassian‘s, virta einkaskólann þar sem Kyle var nemandi og spilaði íshokkí.\tliterary\tESA\n",
      "Line 4: en-is_IS_#_literary_#_rink_rats_chapter1\t3\ten\tis_IS\tofficial\tAMI\tIt was usually his wife, Nicole, who ensured that milestones like this were executed flawlessly. But with his career behind him and plenty of free time ahead, they decided it was time to switch roles. After dedicating fifteen years to raising their son, Nicole was finally ready to return to work full-time and pursue her passion for interior design, leaving Kyle to navigate this unfamiliar routine on his own. \\n Kyle knew he should be excited, yet uncertainty tugged at him. Taking a deep breath, he forced himself to focus. It was time for Nicole and Ryan to take the lead, with his unwavering support behind them. He was determined not to let them down.\tÞað var yfirleitt eiginkona hans, Nicole, sem tryggði að framkvæmdir af þessu tagi gengju hnökralaust fyrir sig en þegar ferill hans var á enda og nægur frítími fram undan ákváðu þau að skipta um hlutverk. Eftir að hafa eytt fimmtán árum í að ala upp son sinn var Nicole loksins tilbúin til að snúa aftur til vinnu í fullu starfi og sinna ástríðu sinni í innanhússhönnun og skildi Kyle eftir með það verkefni að sjá um þetta ókunnuga ferli einn. \\n Kyle vissi að hann ætti að vera spenntur en óvissan togaði í hann. Með djúpum andardrætti neyddi hann sjálfan sig til að einbeita sér. – Það var ekki auðvelt. Það var kominn tími fyrir Nicole og Ryan að taka forystuna, með óbreyttan stuðning hans á bak við þau. Hann ákvað að hann myndi ekki láta þá niður.\tÞað var yfirleitt Nicole, eiginkona hans, sem sá til þess að áfangar á borð við þennan gengu snurðulaust fyrir sig. En nú þegar ferill hans var á enda og hann hafði nægan frítíma fannst þeim kominn tími til að hafa hlutverkaskipti. Nicole hafði helgað sig uppeldi sonar þeirra í fimmtán ár en var nú loks tilbúin að byrja aftur í fullri vinnu og sinna ástríðu sinni fyrir innanhússhönnun. Kyle þurfti því að feta þessu ókunnu slóð upp á eigin spýtur. \\n Kyle vissi að hann ætti að vera spenntur en óvissan nagaði hann samt sem áður. Hann dró andann djúpt og neyddi sig til að einbeita sér. Það var kominn tími til að Nicole og Ryan tækju við taumunum og að hann sýndi þeim skýlausan stuðning. Hann var staðráðinn í að bregðast þeim ekki.\tliterary\tESA\n",
      "Line 5: en-is_IS_#_literary_#_rink_rats_chapter1\t4\ten\tis_IS\tofficial\tAMI\t“Fresh start,” he whispered to himself. “You got this.” \\n Kyle followed the enticing aroma of fresh coffee to the kitchen. Nicole was in the final moments of her new morning routine, screwing the lid onto her to-go cup. When she caught sight of him out of the corner of her eye, she flashed him a quick, warm smile. \\n “Morning, Mr. Mom,” she said, her voice bright with excitement. \\n “Morning,” he chuckled, closing the distance between them and pressing a kiss to her lips. “Pretty sure morning coffee is my new responsibility.” \\n “You get a freebie today, rookie.” Nicole slung her purse over her shoulder and gave Kyle an encouraging pat on the backside as she passed him. “Alright, I’m outta here. Ryan needs to be downstairs in five minutes, and you two need to be out the door in ten. And don’t forget to snap at least one picture of him in his new uniform. I want a smile, or it doesn’t count!”\t“Nýtt upphaf,“ sagði hann við sjálfan sig. „Þú átt þetta.” \\n Kyle fylgdi freyðandi lykt af nýlöguðu kaffi í átt að eldhúsinu. Nicole var í síðustu augnablikum að klára nýja morgunrútínu sína og setti lok á glas sitt til að taka með sér í vinnuna. Þegar hún sá hann úr hliðarspeglinum sendi hún honum fljótt og hlýlegt bros. \\n “Góðan dag, pabbi,“ sagði hún og rödd hennar var björt af tilhlökkun. „Ég er svo spennt,“ bætti hún við. \\n “Góðan daginn,“ hló hann og minnkaði fjarlægðina á milli þeirra og kyssti varirnar hennar. “Ég er nokkuð viss um að morgunkaffið sé mitt nýja hlutverk.” \\n “Þú færð frítt í dag, nýliði,“ sagði Nicole og slengdi töskunni yfir öxlina og gaf Kyle hughreystandi klapp á bakið þegar hún fór fram hjá honum. “Allt í lagi, ég er farinn héðan. Ryan þarf að vera niðri eftir fimm mínútur og þið tveir þurfið að fara út úr húsinu innan tíu mínútna. Og gleymdu ekki að taka a.m.k. eina mynd af honum í nýju búninginum sínum. Ég vil bros, annars telst það ekki með!”\t„Nýtt upphaf“ hvíslaði hann við sjálfan sig. „Þú getur þetta.“ \\n Kyle elti lokkandi ilminn af nýlöguðu kaffi inn í eldhús. Nicole var að skrúfa lokið á ferðamálið sitt, við það að ljúka nýju morgunverkunum sínuum. Hún brosti snöggt og hlýlega til hans þegar hún kom auga á hann útundan sér. \\n „Góðan dag, herra mamma“ sagði hún glöð í bragði. \\n „Góðan dag“ sagði hann og hló með sjálfum sér um leið og hann gekk upp að henni og kyssti hana á munninn. „Ég er nokkuð viss um að morgunkaffið sé núna á mína ábyrgð.“ \\n „Þú færð að sleppa í dag, grænjaxlinn þinn.“ Nicole skellti veskinu yfir öxlina og klappaði Kyle hughreystandi á rassinn þegar hún gekk framhjá honum. „Jæja, ég er rokin. Ryan þarf að vera kominn niður eftir fimm mínútur og þið verðið báðir að vera komnir út eftir tíu. Og ekki gleyma að taka að minnsta kosti eina mynd af honum í nýja búningnum. Ég vil sjá bros, annars telst hún ekki með!“\tliterary\tESA\n",
      "Loading data into Pandas DataFrame...\n"
     ]
    },
    {
     "name": "stderr",
     "output_type": "stream",
     "text": [
      "C:\\Users\\97798\\AppData\\Local\\Temp\\ipykernel_10028\\534853711.py:52: DtypeWarning: Columns (0,8,9,10) have mixed types. Specify dtype option on import or set low_memory=False.\n",
      "  df_test = pd.read_csv(\n"
     ]
    },
    {
     "name": "stdout",
     "output_type": "stream",
     "text": [
      "Successfully loaded and parsed 742740 segments.\n",
      "Data Schema Verified:\n",
      "<class 'pandas.core.frame.DataFrame'>\n",
      "RangeIndex: 742740 entries, 0 to 742739\n",
      "Data columns (total 11 columns):\n",
      " #   Column              Non-Null Count   Dtype \n",
      "---  ------              --------------   ----- \n",
      " 0   doc_id              742740 non-null  object\n",
      " 1   segment_id          742740 non-null  int64 \n",
      " 2   source_lang         742740 non-null  object\n",
      " 3   target_lang         742740 non-null  object\n",
      " 4   set_id              742740 non-null  object\n",
      " 5   system_id           742740 non-null  object\n",
      " 6   source_segment      742700 non-null  object\n",
      " 7   hypothesis_segment  742698 non-null  object\n",
      " 8   reference_segment   134242 non-null  object\n",
      " 9   domain_name         733428 non-null  object\n",
      " 10  method              137233 non-null  object\n",
      "dtypes: int64(1), object(10)\n",
      "memory usage: 62.3+ MB\n",
      "\n",
      "First 5 rows of test data:\n",
      "                                     doc_id  segment_id source_lang target_lang    set_id system_id                                                                                                                                                                                                                                                                                                                                                                                                                                                                                                                                                                                                                                                                                                                                                                                                                                                                                                                             source_segment                                                                                                                                                                                                                                                                                                                                                                                                                                                                                                                                                                                                                                                                                                                                                                                                                                                                                                                                                                                                              hypothesis_segment                                                                                                                                                                                                                                                                                                                                                                                                                                                                                                                                                                                                                                                                                                                                                                                                                                                                                                                               reference_segment domain_name method\n",
      "0  en-is_IS_#_literary_#_rink_rats_chapter1           1          en       is_IS  official       AMI                                                                                                                                                                                                                                                                              Rink Rats \\n Chapter 1: First Day \\n Kyle looked at his reflection in the mirror. He studied the lines etched on his face, each one a reminder of the years gone by. A hint of gray threaded his hair now, and for a moment, he felt the weight of change settling in. \\n He didn’t want to label it an identity crisis. Not yet at least. But as he splashed the cold sink water on his face, memories of his pro hockey career flooded his mind. The thrill of the game, the adrenaline of competition, the love of the fans. All forty years of his life had practically been dedicated to making it to the highest level. Now those days were behind him.                                                                                                                                                                                                                                                                                                            Rinkrats \\n 1. kafli: Fyrsti dagurinn \\n Kyle skoðaði sjálfan sig í speglinum. Hann skoðaði línurnar sem voru á andliti hans, hver og ein þeirra minning um liðin ár. Grái liturinn hafði tekið yfir hárið hans nú og í augnablikinu fann hann fyrir þunglyndi vegna breytinga sem höfðu átt sér stað. \\n Hann vildi ekki kalla þetta sjálfsmyndarkrísu. Ekki enn. Að minnsta kosti ekki. En þegar hann sprautaði köldu vatni úr krana á andlitið rifjuðust upp fyrir honum minningar frá háskólaíshokkíferlinum. Spennan við leikinn, adrenalínið í keppninni, ástin hjá stuðningsmönnunum. Allt að fjörutíu ár af ævi hans höfðu nánast verið helguð því að komast upp á hæstu stig. Þessir dagar voru nú að baki.                                                                                                                                                                                                             Svellkaldir \\n 1. kafli: Fyrsti dagurinn \\n Kyle horfði á sjálfan sig í speglinum. Hann rannsakaði línurnar sem voru greyptar í andlit hans og minntu hann allar á liðin ár. Það var farið að votta fyrir gráu hér og þar í hárinu og eitt augnablik fann hann byrði breyttra tíma hvíla á sér. \\n Hann vildi ekki kalla þetta tilvistarkreppu, að minnsta kosti ekki enn þá, en þegar hann skvetti köldu vatninu úr vaskinum á andlitið helltust yfir hann minningar frá því að hann var atvinnumaður í íshokkí. Um spennuna sem fylgdi íþróttinni, adrenalínflæðið þegar hann keppti, um aðdáun stuðningsmannanna. Öll hans fjörutíu æviár höfðu meira og minna verið helguð því að ná toppárangri. Nú voru þessir dagar að baki.    literary    ESA\n",
      "1  en-is_IS_#_literary_#_rink_rats_chapter1           2          en       is_IS  official       AMI                                                                                                                                                                                                                                                                   It had been a remarkable twenty-year pro career, one that most players could only dream of. He wore a gleaming championship ring, a testament to his hard work and dedication. Kyle truly couldn’t have asked for more. With his wife and son by his side through every triumph and challenge, he was ready to step into this new chapter and return the favor they had shown him. \\n Today marked a significant milestone for the Barnes family; Ryan’s first day of school in their new town. After Kyle’s retirement, they had chosen to relocate to New Hampshire so Ryan could attend St. Cassian’s, the prestigious hockey prep school where Kyle had once played.                                                                                                                                                                                                                                                                                           Það hafði verið merkilegur tuttugu ára ferill, einn sem flestir leikmenn gátu aðeins látið sig dreyma um. Hann bar glæsilegan meistaratitilshring, vitnisburð um vinnusemi sína og ástríðu. Kyle gat ekki beðið eftir að stíga inn í þennan nýja kafla og endurgjalda þeim það sem þau höfðu sýnt honum. Með eiginkonu sinni og syni sér við hlið í gegnum alla sigra og alla erfiðleika var hann tilbúinn að hefja nýtt ævintýri. \\n Í dag var merkilegur áfangi fyrir Barnes-fjölskylduna; fyrsti skóladagur Ryans í nýja bænum þeirra. Eftir að Kyle hætti störfum höfðu þau ákveðið að flytja til New Hampshire svo að Ryan gæti gengið í St. Casimir, hinum virta íshokkíundirbúningsskóla þar sem Kyle hafði einu sinni spilað.                                                                                                                                                                                                           Árin tuttugu í atvinnumennskunni höfðu verið makalaus, eitthvað sem flestir leikmenn gætu bara látið sig dreyma um. Hann gekk með glampandi meistarahring sem bar vott um dugnað hans og staðfestu. Kyle hefði svo sannarlega ekki getað farið fram á meira. Þar sem eiginkona hans og sonur höfðu stutt í hann í gegnum alla sigra hans og þrautir var hann nú reiðubúinn að hefja þennan nýja kafla og endurgjalda þeim greiðann. \\n Dagurinn í dag var stór áfangi fyrir Barnes-fjölskylduna: fyrsti skóladagur Ryans í nýjum heimabæ þeirra. Þegar Kyle settist í helgan stein höfðu þau ákveðið að flytja til New Hamphire svo Ryan gæti gengið í St. Cassian‘s, virta einkaskólann þar sem Kyle var nemandi og spilaði íshokkí.    literary    ESA\n",
      "2  en-is_IS_#_literary_#_rink_rats_chapter1           3          en       is_IS  official       AMI                                                                                                                                                                                                                                                         It was usually his wife, Nicole, who ensured that milestones like this were executed flawlessly. But with his career behind him and plenty of free time ahead, they decided it was time to switch roles. After dedicating fifteen years to raising their son, Nicole was finally ready to return to work full-time and pursue her passion for interior design, leaving Kyle to navigate this unfamiliar routine on his own. \\n Kyle knew he should be excited, yet uncertainty tugged at him. Taking a deep breath, he forced himself to focus. It was time for Nicole and Ryan to take the lead, with his unwavering support behind them. He was determined not to let them down.                                                                                                                                                                                                                                             Það var yfirleitt eiginkona hans, Nicole, sem tryggði að framkvæmdir af þessu tagi gengju hnökralaust fyrir sig en þegar ferill hans var á enda og nægur frítími fram undan ákváðu þau að skipta um hlutverk. Eftir að hafa eytt fimmtán árum í að ala upp son sinn var Nicole loksins tilbúin til að snúa aftur til vinnu í fullu starfi og sinna ástríðu sinni í innanhússhönnun og skildi Kyle eftir með það verkefni að sjá um þetta ókunnuga ferli einn. \\n Kyle vissi að hann ætti að vera spenntur en óvissan togaði í hann. Með djúpum andardrætti neyddi hann sjálfan sig til að einbeita sér. – Það var ekki auðvelt. Það var kominn tími fyrir Nicole og Ryan að taka forystuna, með óbreyttan stuðning hans á bak við þau. Hann ákvað að hann myndi ekki láta þá niður.                                                                                                                                                                               Það var yfirleitt Nicole, eiginkona hans, sem sá til þess að áfangar á borð við þennan gengu snurðulaust fyrir sig. En nú þegar ferill hans var á enda og hann hafði nægan frítíma fannst þeim kominn tími til að hafa hlutverkaskipti. Nicole hafði helgað sig uppeldi sonar þeirra í fimmtán ár en var nú loks tilbúin að byrja aftur í fullri vinnu og sinna ástríðu sinni fyrir innanhússhönnun. Kyle þurfti því að feta þessu ókunnu slóð upp á eigin spýtur. \\n Kyle vissi að hann ætti að vera spenntur en óvissan nagaði hann samt sem áður. Hann dró andann djúpt og neyddi sig til að einbeita sér. Það var kominn tími til að Nicole og Ryan tækju við taumunum og að hann sýndi þeim skýlausan stuðning. Hann var staðráðinn í að bregðast þeim ekki.    literary    ESA\n",
      "3  en-is_IS_#_literary_#_rink_rats_chapter1           4          en       is_IS  official       AMI  “Fresh start,” he whispered to himself. “You got this.” \\n Kyle followed the enticing aroma of fresh coffee to the kitchen. Nicole was in the final moments of her new morning routine, screwing the lid onto her to-go cup. When she caught sight of him out of the corner of her eye, she flashed him a quick, warm smile. \\n “Morning, Mr. Mom,” she said, her voice bright with excitement. \\n “Morning,” he chuckled, closing the distance between them and pressing a kiss to her lips. “Pretty sure morning coffee is my new responsibility.” \\n “You get a freebie today, rookie.” Nicole slung her purse over her shoulder and gave Kyle an encouraging pat on the backside as she passed him. “Alright, I’m outta here. Ryan needs to be downstairs in five minutes, and you two need to be out the door in ten. And don’t forget to snap at least one picture of him in his new uniform. I want a smile, or it doesn’t count!”  “Nýtt upphaf,“ sagði hann við sjálfan sig. „Þú átt þetta.” \\n Kyle fylgdi freyðandi lykt af nýlöguðu kaffi í átt að eldhúsinu. Nicole var í síðustu augnablikum að klára nýja morgunrútínu sína og setti lok á glas sitt til að taka með sér í vinnuna. Þegar hún sá hann úr hliðarspeglinum sendi hún honum fljótt og hlýlegt bros. \\n “Góðan dag, pabbi,“ sagði hún og rödd hennar var björt af tilhlökkun. „Ég er svo spennt,“ bætti hún við. \\n “Góðan daginn,“ hló hann og minnkaði fjarlægðina á milli þeirra og kyssti varirnar hennar. “Ég er nokkuð viss um að morgunkaffið sé mitt nýja hlutverk.” \\n “Þú færð frítt í dag, nýliði,“ sagði Nicole og slengdi töskunni yfir öxlina og gaf Kyle hughreystandi klapp á bakið þegar hún fór fram hjá honum. “Allt í lagi, ég er farinn héðan. Ryan þarf að vera niðri eftir fimm mínútur og þið tveir þurfið að fara út úr húsinu innan tíu mínútna. Og gleymdu ekki að taka a.m.k. eina mynd af honum í nýju búninginum sínum. Ég vil bros, annars telst það ekki með!”  „Nýtt upphaf“ hvíslaði hann við sjálfan sig. „Þú getur þetta.“ \\n Kyle elti lokkandi ilminn af nýlöguðu kaffi inn í eldhús. Nicole var að skrúfa lokið á ferðamálið sitt, við það að ljúka nýju morgunverkunum sínuum. Hún brosti snöggt og hlýlega til hans þegar hún kom auga á hann útundan sér. \\n „Góðan dag, herra mamma“ sagði hún glöð í bragði. \\n „Góðan dag“ sagði hann og hló með sjálfum sér um leið og hann gekk upp að henni og kyssti hana á munninn. „Ég er nokkuð viss um að morgunkaffið sé núna á mína ábyrgð.“ \\n „Þú færð að sleppa í dag, grænjaxlinn þinn.“ Nicole skellti veskinu yfir öxlina og klappaði Kyle hughreystandi á rassinn þegar hún gekk framhjá honum. „Jæja, ég er rokin. Ryan þarf að vera kominn niður eftir fimm mínútur og þið verðið báðir að vera komnir út eftir tíu. Og ekki gleyma að taka að minnsta kosti eina mynd af honum í nýja búningnum. Ég vil sjá bros, annars telst hún ekki með!“    literary    ESA\n",
      "4  en-is_IS_#_literary_#_rink_rats_chapter1           5          en       is_IS  official       AMI                                                                                                                                                                                                                                “I’ll make sure he gets to school on time. No promises about the smiling part, though.” \\n “If he behaves for the picture, tell him we can hit the diner after practice.” \\n “Deal.” Kyle nodded. “Go get ’em, babe.” \\n Nicole winked at him as she opened the door to the garage. “Love you. Keep me updated!” \\n And just like that, she was gone. The sudden silence was almost unsettling, prompting Kyle to pour himself a cup of coffee to distract his restless thoughts. \\n “Hey, Ry! You about ready?” Kyle called up the stairs. \\n Silence followed, typical for a teenager. Kyle settled at the table for the time being, scrolling through his phone. A new text pinged, and he tapped on it.                                                                                                                                                                                                                                            “Ég verð að sjá til þess að hann komi í skóla á réttum tíma. Ég get ekki lofað um brosið, þó að það sé eitthvað sem ég myndi vilja sjá.” \\n “Ef hann hegðar sér fyrir myndina, segðu honum að við getum farið á diner eftir æfingu.” \\n “Samþykki.“ sagði Kyle og kinkaði kolli. „Gerðu það, elskan.” \\n Nicole brosaði við hann þegar hún opnaði hurðina að bílskúrnum. “Elskum þig. Haldið mér upplýstum!” \\n Og þar með var hún farin. Skyndilega var þögnin nánast óþægileg, sem olli því að Kyle hellti sér í kaffi til að draga úr órólegum hugsunum sínum. \\n “Halló, Ry, ert þú tilbúinn?“ hrópaði Kyle upp stigann. \\n Þögn fylgdi, eðlileg fyrir ungling. Kyle settist við borðið um stund og skrollaði í gegnum símann sinn. Nýtt skilaboð birtist og hann smellti á það.                                                                                                                                                    „Ég sé til þess að hann mæti í skólann á réttum tíma en ég lofa engu um bros.“ \\n „Segðu honum að ef hann hagi sér skikkanlega í myndatökunni getum við farið út að borða eftir æfingu.“ \\n „Samþykkt.“ Kyle kinkaði kolli. „Áfram þú, elskan.“ \\n Nicole blikkaði hann um leið og hún opnaði bílskúrsdyrnar. „Elska þig. Láttu mig vita hvernig gengur!“ \\n Og þar með var hún farin. Skyndileg þögnin var næstum því óþægileg og Kyle hellti í kaffi í bolla til að leiða hugann frá órólegum hugsunum sínum. \\n „Heyrðu, Ry! Ertu að verða tilbúinn?“ Kyle hrópaði þetta upp á efri hæðina. \\n Þessu var svarað með þögn. Dæmigerður unglingur. Kyle tyllti sér við borðið og fletti í gegnum símann sinn. Síminn gaf frá sér hljóð til merkis um ný textaskilaboð og hann smellti á þau.    literary    ESA\n"
     ]
    }
   ],
   "source": [
    "import pandas as pd\n",
    "import torch\n",
    "torch.set_float32_matmul_precision('high') \n",
    "import csv\n",
    "import os\n",
    "import gzip\n",
    "\n",
    "DATA_DIR = \".\"\n",
    "COMPRESSED_FILE = \"mteval-task1-test25.tsv.gz\"\n",
    "DECOMPRESSED_FILE = \"mteval-task1-test25.tsv\"\n",
    "\n",
    "compressed_path = os.path.join(DATA_DIR, COMPRESSED_FILE)\n",
    "decompressed_path = os.path.join(DATA_DIR, DECOMPRESSED_FILE)\n",
    "\n",
    "print(f\"Looking for compressed file at: {compressed_path}\")\n",
    "if not os.path.exists(compressed_path):\n",
    "    print(f\"ERROR: File {COMPRESSED_FILE} not found in current directory!\")\n",
    "    print(f\"Current directory contents: {os.listdir(DATA_DIR)}\")\n",
    "    raise FileNotFoundError(f\"Required file {COMPRESSED_FILE} not found\")\n",
    "if not os.path.exists(decompressed_path):\n",
    "    print(f\"Decompressing {COMPRESSED_FILE}...\")\n",
    "    try:\n",
    "        with gzip.open(compressed_path, 'rt', encoding='utf-8') as gz_file:\n",
    "            with open(decompressed_path, 'w', encoding='utf-8') as out_file:\n",
    "                for line in gz_file:\n",
    "                    out_file.write(line)\n",
    "        print(f\"Successfully decompressed to {DECOMPRESSED_FILE}\")\n",
    "    except Exception as e:\n",
    "        print(f\"Failed to decompress file: {e}\")\n",
    "        raise\n",
    "else:\n",
    "    print(f\"Using existing decompressed file: {DECOMPRESSED_FILE}\")\n",
    "\n",
    "print(\"Checking decompressed file content before loading...\")\n",
    "try:\n",
    "    with open(decompressed_path, 'r', encoding='utf-8') as f:\n",
    "        for i in range(5):\n",
    "            line = f.readline()\n",
    "            if not line:\n",
    "                break\n",
    "            print(f\"Line {i+1}: {line.strip()}\")\n",
    "except Exception as e:\n",
    "    print(f\"Failed to read decompressed file: {e}\")\n",
    "    raise\n",
    "\n",
    "print(\"Loading data into Pandas DataFrame...\")\n",
    "try:\n",
    "    df_test = pd.read_csv(\n",
    "        decompressed_path,\n",
    "        sep='\\t',\n",
    "        header=0,\n",
    "        encoding='utf-8',\n",
    "        quoting=csv.QUOTE_NONE\n",
    "    )\n",
    "    print(f\"Successfully loaded and parsed {len(df_test)} segments.\")\n",
    "    print(\"Data Schema Verified:\")\n",
    "    df_test.info()\n",
    "    print(\"\\nFirst 5 rows of test data:\")\n",
    "    print(df_test.head().to_string())\n",
    "except Exception as e:\n",
    "    print(f\"Failed to load data into DataFrame: {e}\")\n",
    "    raise"
   ]
  },
  {
   "cell_type": "code",
   "execution_count": null,
   "metadata": {
    "execution": {
     "iopub.execute_input": "2025-08-06T01:37:08.358963Z",
     "iopub.status.busy": "2025-08-06T01:37:08.358433Z",
     "iopub.status.idle": "2025-08-06T01:38:25.688743Z",
     "shell.execute_reply": "2025-08-06T01:38:25.687859Z",
     "shell.execute_reply.started": "2025-08-06T01:37:08.358941Z"
    },
    "trusted": true
   },
   "outputs": [
    {
     "name": "stderr",
     "output_type": "stream",
     "text": [
      "c:\\Users\\97798\\Downloads\\wmt_solution_2025\\venv\\Lib\\site-packages\\tqdm\\auto.py:21: TqdmWarning: IProgress not found. Please update jupyter and ipywidgets. See https://ipywidgets.readthedocs.io/en/stable/user_install.html\n",
      "  from .autonotebook import tqdm as notebook_tqdm\n"
     ]
    },
    {
     "name": "stdout",
     "output_type": "stream",
     "text": [
      "Execution device: cuda\n",
      "Loading SOTA model: Unbabel/wmt22-comet-da...\n"
     ]
    },
    {
     "name": "stderr",
     "output_type": "stream",
     "text": [
      "Fetching 5 files: 100%|██████████| 5/5 [00:00<?, ?it/s]\n",
      "Lightning automatically upgraded your loaded checkpoint from v1.8.3.post1 to v2.5.2. To apply the upgrade to your files permanently, run `python -m pytorch_lightning.utilities.upgrade_checkpoint C:\\Users\\97798\\.cache\\huggingface\\hub\\models--Unbabel--wmt22-comet-da\\snapshots\\2760a223ac957f30acfb18c8aa649b01cf1d75f2\\checkpoints\\model.ckpt`\n",
      "Encoder model frozen.\n",
      "c:\\Users\\97798\\Downloads\\wmt_solution_2025\\venv\\Lib\\site-packages\\pytorch_lightning\\core\\saving.py:195: Found keys that are not in the model state dict but in the checkpoint: ['encoder.model.embeddings.position_ids']\n"
     ]
    },
    {
     "name": "stdout",
     "output_type": "stream",
     "text": [
      "Formatting data for prediction...\n",
      "Data formatting complete for 742740 entries.\n"
     ]
    }
   ],
   "source": [
    "from comet import download_model, load_from_checkpoint\n",
    "\n",
    "MODEL_NAME = \"Unbabel/wmt22-comet-da\"\n",
    "BATCH_SIZE = 4\n",
    "device = \"cuda\" if torch.cuda.is_available() else \"cpu\"\n",
    "print(f\"Execution device: {device}\")\n",
    "\n",
    "print(f\"Loading SOTA model: {MODEL_NAME}...\")\n",
    "model_path = download_model(MODEL_NAME)\n",
    "model = load_from_checkpoint(model_path).to(device)\n",
    "model.eval()\n",
    "\n",
    "print(\"Formatting data for prediction...\")\n",
    "data_to_score = []\n",
    "for _, row in df_test.iterrows():\n",
    "    src = str(row['source_segment']).replace(' \\\\n ', '\\n')\n",
    "    hyp = str(row['hypothesis_segment']).replace(' \\\\n ', '\\n')\n",
    "    \n",
    "    ref_val = row['reference_segment']\n",
    "    if pd.isna(ref_val) or ref_val == \"NaN\":\n",
    "        ref_content = \"\"\n",
    "    else:\n",
    "        ref_content = str(ref_val).replace(' \\\\n ', '\\n')\n",
    "        \n",
    "    data_to_score.append({\"src\": src, \"mt\": hyp, \"ref\": ref_content})\n",
    "print(f\"Data formatting complete for {len(data_to_score)} entries.\")"
   ]
  },
  {
   "cell_type": "code",
   "execution_count": null,
   "metadata": {
    "execution": {
     "iopub.execute_input": "2025-08-06T01:38:25.690188Z",
     "iopub.status.busy": "2025-08-06T01:38:25.689557Z"
    },
    "trusted": true
   },
   "outputs": [
    {
     "name": "stdout",
     "output_type": "stream",
     "text": [
      "Starting prediction... This may take some time.\n"
     ]
    },
    {
     "name": "stderr",
     "output_type": "stream",
     "text": [
      "💡 Tip: For seamless cloud uploads and versioning, try installing [litmodels](https://pypi.org/project/litmodels/) to enable LitModelCheckpoint, which syncs automatically with the Lightning model registry.\n",
      "GPU available: True (cuda), used: True\n",
      "TPU available: False, using: 0 TPU cores\n",
      "HPU available: False, using: 0 HPUs\n",
      "LOCAL_RANK: 0 - CUDA_VISIBLE_DEVICES: [0]\n",
      "Predicting DataLoader 0: 100%|██████████| 185685/185685 [7:17:36<00:00,  7.07it/s]  \n"
     ]
    },
    {
     "name": "stdout",
     "output_type": "stream",
     "text": [
      "Prediction finished. Generated 6 scores.\n"
     ]
    }
   ],
   "source": [
    "print(\"Starting prediction... This may take some time.\")\n",
    "with torch.no_grad():\n",
    "    seg_scores, _ = model.predict(\n",
    "        data_to_score,\n",
    "        batch_size=BATCH_SIZE,\n",
    "        gpus=1 if device == \"cuda\" else 0,\n",
    "        progress_bar=True\n",
    "    )\n",
    "print(f\"Prediction finished. Generated {len(seg_scores)} scores.\")"
   ]
  },
  {
   "cell_type": "code",
   "execution_count": null,
   "metadata": {
    "trusted": true
   },
   "outputs": [
    {
     "name": "stdout",
     "output_type": "stream",
     "text": [
      "Creating the final submission DataFrame...\n",
      "Saving submission file to .\\segments.tsv...\n",
      "--- Submission file created successfully! ---\n",
      "\n",
      "Verifying submission file head:\n",
      "                                     doc_id  segment_id source_lang target_lang    set_id system_id domain_name method overall\n",
      "0  en-is_IS_#_literary_#_rink_rats_chapter1           1          en       is_IS  official       AMI    literary    ESA  scores\n",
      "1  en-is_IS_#_literary_#_rink_rats_chapter1           2          en       is_IS  official       AMI    literary    ESA  scores\n",
      "2  en-is_IS_#_literary_#_rink_rats_chapter1           3          en       is_IS  official       AMI    literary    ESA  scores\n",
      "3  en-is_IS_#_literary_#_rink_rats_chapter1           4          en       is_IS  official       AMI    literary    ESA  scores\n",
      "4  en-is_IS_#_literary_#_rink_rats_chapter1           5          en       is_IS  official       AMI    literary    ESA  scores\n"
     ]
    },
    {
     "name": "stderr",
     "output_type": "stream",
     "text": [
      "C:\\Users\\97798\\AppData\\Local\\Temp\\ipykernel_10028\\3793421129.py:29: DtypeWarning: Columns (0,6,7) have mixed types. Specify dtype option on import or set low_memory=False.\n",
      "  print(pd.read_csv(SUBMISSION_FILE_PATH, sep='\\t').head().to_string())\n"
     ]
    }
   ],
   "source": [
    "SUBMISSION_DIR = \".\"\n",
    "SUBMISSION_FILE_PATH = os.path.join(SUBMISSION_DIR, \"segments.tsv\")\n",
    "\n",
    "print(\"Creating the final submission DataFrame...\")\n",
    "submission_df = df_test[[\n",
    "    'doc_id', 'segment_id', 'source_lang', 'target_lang',\n",
    "    'set_id', 'system_id', 'domain_name', 'method'\n",
    "]].copy()\n",
    "\n",
    "submission_df['overall'] = seg_scores\n",
    "\n",
    "print(f\"Saving submission file to {SUBMISSION_FILE_PATH}...\")\n",
    "submission_df.to_csv(\n",
    "    SUBMISSION_FILE_PATH,\n",
    "    sep='\\t',\n",
    "    index=False,\n",
    "    header=True,\n",
    "    encoding='utf-8'\n",
    ")\n",
    "print(\"--- Submission file created successfully! ---\")\n",
    "\n",
    "print(\"\\nVerifying submission file head:\")\n",
    "print(pd.read_csv(SUBMISSION_FILE_PATH, sep='\\t').head().to_string())"
   ]
  }
 ],
 "metadata": {
  "kaggle": {
   "accelerator": "gpu",
   "dataSources": [
    {
     "datasetId": 8010014,
     "sourceId": 12675019,
     "sourceType": "datasetVersion"
    }
   ],
   "dockerImageVersionId": 31090,
   "isGpuEnabled": true,
   "isInternetEnabled": true,
   "language": "python",
   "sourceType": "notebook"
  },
  "kernelspec": {
   "display_name": "venv",
   "language": "python",
   "name": "python3"
  },
  "language_info": {
   "codemirror_mode": {
    "name": "ipython",
    "version": 3
   },
   "file_extension": ".py",
   "mimetype": "text/x-python",
   "name": "python",
   "nbconvert_exporter": "python",
   "pygments_lexer": "ipython3",
   "version": "3.11.0"
  }
 },
 "nbformat": 4,
 "nbformat_minor": 4
}
